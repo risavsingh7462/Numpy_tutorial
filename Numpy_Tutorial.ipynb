{
 "cells": [
  {
   "cell_type": "markdown",
   "id": "99d4bdd1",
   "metadata": {},
   "source": [
    "# Welcome to NumpyTutorial"
   ]
  },
  {
   "cell_type": "code",
   "execution_count": 1,
   "id": "a8c33f54",
   "metadata": {},
   "outputs": [],
   "source": [
    "import numpy as np"
   ]
  },
  {
   "cell_type": "code",
   "execution_count": 2,
   "id": "c10e9844",
   "metadata": {},
   "outputs": [],
   "source": [
    "myarr = np.array([[3,6,37,7]], np.int32)"
   ]
  },
  {
   "cell_type": "code",
   "execution_count": 3,
   "id": "bb195e53",
   "metadata": {},
   "outputs": [
    {
     "data": {
      "text/plain": [
       "6"
      ]
     },
     "execution_count": 3,
     "metadata": {},
     "output_type": "execute_result"
    }
   ],
   "source": [
    "myarr[0,1]"
   ]
  },
  {
   "cell_type": "code",
   "execution_count": 4,
   "id": "696801d4",
   "metadata": {},
   "outputs": [
    {
     "data": {
      "text/plain": [
       "(1, 4)"
      ]
     },
     "execution_count": 4,
     "metadata": {},
     "output_type": "execute_result"
    }
   ],
   "source": [
    "myarr.shape"
   ]
  },
  {
   "cell_type": "code",
   "execution_count": 5,
   "id": "121355b1",
   "metadata": {},
   "outputs": [
    {
     "data": {
      "text/plain": [
       "dtype('int32')"
      ]
     },
     "execution_count": 5,
     "metadata": {},
     "output_type": "execute_result"
    }
   ],
   "source": [
    "myarr.dtype"
   ]
  },
  {
   "cell_type": "code",
   "execution_count": 6,
   "id": "a45f86fd",
   "metadata": {},
   "outputs": [
    {
     "data": {
      "text/plain": [
       "6"
      ]
     },
     "execution_count": 6,
     "metadata": {},
     "output_type": "execute_result"
    }
   ],
   "source": [
    "myarr[0,1]"
   ]
  },
  {
   "cell_type": "code",
   "execution_count": 7,
   "id": "70e9c7cf",
   "metadata": {},
   "outputs": [],
   "source": [
    "myarr[0,1] = 45"
   ]
  },
  {
   "cell_type": "code",
   "execution_count": 8,
   "id": "451b3c3c",
   "metadata": {},
   "outputs": [
    {
     "data": {
      "text/plain": [
       "array([[ 3, 45, 37,  7]])"
      ]
     },
     "execution_count": 8,
     "metadata": {},
     "output_type": "execute_result"
    }
   ],
   "source": [
    "myarr"
   ]
  },
  {
   "cell_type": "markdown",
   "id": "ddc070fc",
   "metadata": {},
   "source": [
    "# Array creation: 1 Conversion from other Python structures (i.e. lists and tuples)"
   ]
  },
  {
   "cell_type": "code",
   "execution_count": 9,
   "id": "f33ff85e",
   "metadata": {},
   "outputs": [],
   "source": [
    "listarray = np.array([[1,2,3],[5,8,5],[0,3,1]])"
   ]
  },
  {
   "cell_type": "code",
   "execution_count": 10,
   "id": "09fd81ed",
   "metadata": {},
   "outputs": [
    {
     "data": {
      "text/plain": [
       "array([[1, 2, 3],\n",
       "       [5, 8, 5],\n",
       "       [0, 3, 1]])"
      ]
     },
     "execution_count": 10,
     "metadata": {},
     "output_type": "execute_result"
    }
   ],
   "source": [
    "listarray"
   ]
  },
  {
   "cell_type": "code",
   "execution_count": 11,
   "id": "4e4a2ecc",
   "metadata": {},
   "outputs": [
    {
     "data": {
      "text/plain": [
       "dtype('int32')"
      ]
     },
     "execution_count": 11,
     "metadata": {},
     "output_type": "execute_result"
    }
   ],
   "source": [
    "listarray.dtype"
   ]
  },
  {
   "cell_type": "code",
   "execution_count": 12,
   "id": "f1400626",
   "metadata": {},
   "outputs": [
    {
     "data": {
      "text/plain": [
       "(3, 3)"
      ]
     },
     "execution_count": 12,
     "metadata": {},
     "output_type": "execute_result"
    }
   ],
   "source": [
    "listarray.shape"
   ]
  },
  {
   "cell_type": "code",
   "execution_count": 13,
   "id": "d1f1793a",
   "metadata": {},
   "outputs": [
    {
     "data": {
      "text/plain": [
       "9"
      ]
     },
     "execution_count": 13,
     "metadata": {},
     "output_type": "execute_result"
    }
   ],
   "source": [
    "listarray.size"
   ]
  },
  {
   "cell_type": "markdown",
   "id": "7b303c8e",
   "metadata": {},
   "source": [
    "# Array creation: 2 Intrinsic NumPy array creation functions (e.g. arange, ones, zeros, etc.)"
   ]
  },
  {
   "cell_type": "markdown",
   "id": "4d10616f",
   "metadata": {},
   "source": [
    "**Zeros**"
   ]
  },
  {
   "cell_type": "code",
   "execution_count": 14,
   "id": "ab493e01",
   "metadata": {},
   "outputs": [],
   "source": [
    "zeros = np.zeros((2, 5))"
   ]
  },
  {
   "cell_type": "code",
   "execution_count": 15,
   "id": "1e0c9a93",
   "metadata": {},
   "outputs": [
    {
     "data": {
      "text/plain": [
       "array([[0., 0., 0., 0., 0.],\n",
       "       [0., 0., 0., 0., 0.]])"
      ]
     },
     "execution_count": 15,
     "metadata": {},
     "output_type": "execute_result"
    }
   ],
   "source": [
    "zeros"
   ]
  },
  {
   "cell_type": "code",
   "execution_count": 16,
   "id": "510c891d",
   "metadata": {},
   "outputs": [
    {
     "data": {
      "text/plain": [
       "dtype('float64')"
      ]
     },
     "execution_count": 16,
     "metadata": {},
     "output_type": "execute_result"
    }
   ],
   "source": [
    "zeros.dtype"
   ]
  },
  {
   "cell_type": "code",
   "execution_count": 17,
   "id": "3e5e9049",
   "metadata": {},
   "outputs": [
    {
     "data": {
      "text/plain": [
       "(2, 5)"
      ]
     },
     "execution_count": 17,
     "metadata": {},
     "output_type": "execute_result"
    }
   ],
   "source": [
    "zeros.shape"
   ]
  },
  {
   "cell_type": "markdown",
   "id": "ed29cda8",
   "metadata": {},
   "source": [
    "**arange**"
   ]
  },
  {
   "cell_type": "code",
   "execution_count": 18,
   "id": "9b5a53ce",
   "metadata": {},
   "outputs": [],
   "source": [
    "rng = np.arange(15)"
   ]
  },
  {
   "cell_type": "code",
   "execution_count": 19,
   "id": "bcbbf673",
   "metadata": {},
   "outputs": [
    {
     "data": {
      "text/plain": [
       "array([ 0,  1,  2,  3,  4,  5,  6,  7,  8,  9, 10, 11, 12, 13, 14])"
      ]
     },
     "execution_count": 19,
     "metadata": {},
     "output_type": "execute_result"
    }
   ],
   "source": [
    "rng"
   ]
  },
  {
   "cell_type": "markdown",
   "id": "9742fcd0",
   "metadata": {},
   "source": [
    "**linspace**"
   ]
  },
  {
   "cell_type": "markdown",
   "id": "4bcbf8dd",
   "metadata": {},
   "source": [
    "*ye mujhe 1 se lekar 5 tak equally linearly spaced 12 elements dega*"
   ]
  },
  {
   "cell_type": "code",
   "execution_count": 20,
   "id": "f37e0a4b",
   "metadata": {},
   "outputs": [],
   "source": [
    "lspace = np.linspace(1,5,12)"
   ]
  },
  {
   "cell_type": "code",
   "execution_count": 21,
   "id": "e104d6ec",
   "metadata": {},
   "outputs": [
    {
     "data": {
      "text/plain": [
       "array([1.        , 1.36363636, 1.72727273, 2.09090909, 2.45454545,\n",
       "       2.81818182, 3.18181818, 3.54545455, 3.90909091, 4.27272727,\n",
       "       4.63636364, 5.        ])"
      ]
     },
     "execution_count": 21,
     "metadata": {},
     "output_type": "execute_result"
    }
   ],
   "source": [
    "lspace"
   ]
  },
  {
   "cell_type": "code",
   "execution_count": 22,
   "id": "cfd2167a",
   "metadata": {},
   "outputs": [],
   "source": [
    "lspace = np.linspace(1,50,10)"
   ]
  },
  {
   "cell_type": "code",
   "execution_count": 23,
   "id": "855e1351",
   "metadata": {},
   "outputs": [
    {
     "data": {
      "text/plain": [
       "array([ 1.        ,  6.44444444, 11.88888889, 17.33333333, 22.77777778,\n",
       "       28.22222222, 33.66666667, 39.11111111, 44.55555556, 50.        ])"
      ]
     },
     "execution_count": 23,
     "metadata": {},
     "output_type": "execute_result"
    }
   ],
   "source": [
    "lspace"
   ]
  },
  {
   "cell_type": "code",
   "execution_count": 24,
   "id": "162f8482",
   "metadata": {},
   "outputs": [],
   "source": [
    "lspace = np.linspace(1,4,4)"
   ]
  },
  {
   "cell_type": "code",
   "execution_count": 25,
   "id": "3f9d37c3",
   "metadata": {},
   "outputs": [
    {
     "data": {
      "text/plain": [
       "array([1., 2., 3., 4.])"
      ]
     },
     "execution_count": 25,
     "metadata": {},
     "output_type": "execute_result"
    }
   ],
   "source": [
    "lspace"
   ]
  },
  {
   "cell_type": "markdown",
   "id": "68abd3fd",
   "metadata": {},
   "source": [
    "**empty**"
   ]
  },
  {
   "cell_type": "markdown",
   "id": "1e70d21f",
   "metadata": {},
   "source": [
    "*to np.empty kya karega aaplog ko khali array de dega (4,6) ka or sare ke sare jo elements honge wo random hoga, or aaplogo ko uske bad jo bhi value chahiye aaplog isko assigne kara sakte hai*"
   ]
  },
  {
   "cell_type": "code",
   "execution_count": 26,
   "id": "a104f9c7",
   "metadata": {},
   "outputs": [],
   "source": [
    "emp =np.empty((4,6))"
   ]
  },
  {
   "cell_type": "code",
   "execution_count": 27,
   "id": "678d7b30",
   "metadata": {},
   "outputs": [
    {
     "data": {
      "text/plain": [
       "array([[6.23042070e-307, 1.42417221e-306, 1.37961641e-306,\n",
       "        6.23040033e-307, 6.23053954e-307, 9.34609790e-307],\n",
       "       [8.45593934e-307, 9.34600963e-307, 1.86921143e-306,\n",
       "        6.23061763e-307, 8.90104239e-307, 6.89804132e-307],\n",
       "       [1.33512376e-306, 6.89806849e-307, 9.34609790e-307,\n",
       "        1.69121096e-306, 1.05700515e-307, 1.11261774e-306],\n",
       "       [1.29060871e-306, 8.34424766e-308, 8.34445138e-308,\n",
       "        1.37959129e-306, 1.02360528e-306, 0.00000000e+000]])"
      ]
     },
     "execution_count": 27,
     "metadata": {},
     "output_type": "execute_result"
    }
   ],
   "source": [
    "emp"
   ]
  },
  {
   "cell_type": "markdown",
   "id": "5f0d1c27",
   "metadata": {},
   "source": [
    "**empty like**"
   ]
  },
  {
   "cell_type": "markdown",
   "id": "2482f17c",
   "metadata": {},
   "source": [
    "*to basically ye karta kya hai. apne koi purana array banaya hoga, uss array ka jo bhi size tha usko copy karke ek empty array bana deta hai.*"
   ]
  },
  {
   "cell_type": "code",
   "execution_count": 28,
   "id": "62158166",
   "metadata": {},
   "outputs": [],
   "source": [
    "emp_like = np.empty_like(lspace)"
   ]
  },
  {
   "cell_type": "code",
   "execution_count": 29,
   "id": "01949b72",
   "metadata": {},
   "outputs": [
    {
     "data": {
      "text/plain": [
       "array([1., 2., 3., 4.])"
      ]
     },
     "execution_count": 29,
     "metadata": {},
     "output_type": "execute_result"
    }
   ],
   "source": [
    "emp_like"
   ]
  },
  {
   "cell_type": "markdown",
   "id": "4be56b6f",
   "metadata": {},
   "source": [
    "**Identity**"
   ]
  },
  {
   "cell_type": "markdown",
   "id": "185042c8",
   "metadata": {},
   "source": [
    "*Ye hume ek identity matrics deta hai (45*45)*"
   ]
  },
  {
   "cell_type": "code",
   "execution_count": 30,
   "id": "ae66ce81",
   "metadata": {},
   "outputs": [],
   "source": [
    "ide = np.identity(45)"
   ]
  },
  {
   "cell_type": "code",
   "execution_count": 31,
   "id": "a29543fa",
   "metadata": {},
   "outputs": [
    {
     "data": {
      "text/plain": [
       "array([[1., 0., 0., ..., 0., 0., 0.],\n",
       "       [0., 1., 0., ..., 0., 0., 0.],\n",
       "       [0., 0., 1., ..., 0., 0., 0.],\n",
       "       ...,\n",
       "       [0., 0., 0., ..., 1., 0., 0.],\n",
       "       [0., 0., 0., ..., 0., 1., 0.],\n",
       "       [0., 0., 0., ..., 0., 0., 1.]])"
      ]
     },
     "execution_count": 31,
     "metadata": {},
     "output_type": "execute_result"
    }
   ],
   "source": [
    "ide"
   ]
  },
  {
   "cell_type": "code",
   "execution_count": 32,
   "id": "5eb11d9d",
   "metadata": {},
   "outputs": [
    {
     "data": {
      "text/plain": [
       "(45, 45)"
      ]
     },
     "execution_count": 32,
     "metadata": {},
     "output_type": "execute_result"
    }
   ],
   "source": [
    "ide.shape"
   ]
  },
  {
   "cell_type": "markdown",
   "id": "7fb8c8d4",
   "metadata": {},
   "source": [
    "**reshape**"
   ]
  },
  {
   "cell_type": "code",
   "execution_count": 33,
   "id": "bb9c8406",
   "metadata": {},
   "outputs": [],
   "source": [
    "arr = np.arange(99)"
   ]
  },
  {
   "cell_type": "code",
   "execution_count": 34,
   "id": "f3d80df1",
   "metadata": {},
   "outputs": [
    {
     "data": {
      "text/plain": [
       "array([ 0,  1,  2,  3,  4,  5,  6,  7,  8,  9, 10, 11, 12, 13, 14, 15, 16,\n",
       "       17, 18, 19, 20, 21, 22, 23, 24, 25, 26, 27, 28, 29, 30, 31, 32, 33,\n",
       "       34, 35, 36, 37, 38, 39, 40, 41, 42, 43, 44, 45, 46, 47, 48, 49, 50,\n",
       "       51, 52, 53, 54, 55, 56, 57, 58, 59, 60, 61, 62, 63, 64, 65, 66, 67,\n",
       "       68, 69, 70, 71, 72, 73, 74, 75, 76, 77, 78, 79, 80, 81, 82, 83, 84,\n",
       "       85, 86, 87, 88, 89, 90, 91, 92, 93, 94, 95, 96, 97, 98])"
      ]
     },
     "execution_count": 34,
     "metadata": {},
     "output_type": "execute_result"
    }
   ],
   "source": [
    "arr"
   ]
  },
  {
   "cell_type": "markdown",
   "id": "f2a6efea",
   "metadata": {},
   "source": [
    "*Man lo agar me chahta hun ise reshape karna. to yaha kya hai 99 means (1,9) yaniki 1D array, to me isko (3,33) yaniki 3D array bhi bana sakta hum*"
   ]
  },
  {
   "cell_type": "code",
   "execution_count": 35,
   "id": "f7d5d5de",
   "metadata": {},
   "outputs": [
    {
     "data": {
      "text/plain": [
       "array([[ 0,  1,  2,  3,  4,  5,  6,  7,  8,  9, 10, 11, 12, 13, 14, 15,\n",
       "        16, 17, 18, 19, 20, 21, 22, 23, 24, 25, 26, 27, 28, 29, 30, 31,\n",
       "        32],\n",
       "       [33, 34, 35, 36, 37, 38, 39, 40, 41, 42, 43, 44, 45, 46, 47, 48,\n",
       "        49, 50, 51, 52, 53, 54, 55, 56, 57, 58, 59, 60, 61, 62, 63, 64,\n",
       "        65],\n",
       "       [66, 67, 68, 69, 70, 71, 72, 73, 74, 75, 76, 77, 78, 79, 80, 81,\n",
       "        82, 83, 84, 85, 86, 87, 88, 89, 90, 91, 92, 93, 94, 95, 96, 97,\n",
       "        98]])"
      ]
     },
     "execution_count": 35,
     "metadata": {},
     "output_type": "execute_result"
    }
   ],
   "source": [
    "arr.reshape(3,33)"
   ]
  },
  {
   "cell_type": "markdown",
   "id": "5957fc28",
   "metadata": {},
   "source": [
    "*lekin agar me arr.reshape ko (3,31) karu to ye error dega, kyuki (3,31) me kitne element hai 93 or humara array kitne element ka hia 99 to isiliye error dega, means aap isko jis bhi shape me dena chahte hai unko multilpy karne se total element aana cahiye.*"
   ]
  },
  {
   "cell_type": "markdown",
   "id": "887584b0",
   "metadata": {},
   "source": [
    "*Abb arr change nahi hua hai usko change karne ke liye usko varible me dalna padega....eg.*"
   ]
  },
  {
   "cell_type": "code",
   "execution_count": 37,
   "id": "05d72cfa",
   "metadata": {},
   "outputs": [
    {
     "data": {
      "text/plain": [
       "array([ 0,  1,  2,  3,  4,  5,  6,  7,  8,  9, 10, 11, 12, 13, 14, 15, 16,\n",
       "       17, 18, 19, 20, 21, 22, 23, 24, 25, 26, 27, 28, 29, 30, 31, 32, 33,\n",
       "       34, 35, 36, 37, 38, 39, 40, 41, 42, 43, 44, 45, 46, 47, 48, 49, 50,\n",
       "       51, 52, 53, 54, 55, 56, 57, 58, 59, 60, 61, 62, 63, 64, 65, 66, 67,\n",
       "       68, 69, 70, 71, 72, 73, 74, 75, 76, 77, 78, 79, 80, 81, 82, 83, 84,\n",
       "       85, 86, 87, 88, 89, 90, 91, 92, 93, 94, 95, 96, 97, 98])"
      ]
     },
     "execution_count": 37,
     "metadata": {},
     "output_type": "execute_result"
    }
   ],
   "source": [
    "arr"
   ]
  },
  {
   "cell_type": "code",
   "execution_count": null,
   "id": "37fb529a",
   "metadata": {},
   "outputs": [],
   "source": [
    "arr = arr.reshape(3,33)"
   ]
  },
  {
   "cell_type": "code",
   "execution_count": null,
   "id": "d4e8e624",
   "metadata": {},
   "outputs": [],
   "source": [
    "arr"
   ]
  },
  {
   "cell_type": "markdown",
   "id": "4580580d",
   "metadata": {},
   "source": [
    "**ravel**"
   ]
  },
  {
   "cell_type": "markdown",
   "id": "08d15dc9",
   "metadata": {},
   "source": [
    "*isse hum array ko sidha kar dete hai jo reshape se humne change kiya hai usko sidha karne ke liye hum ravel ka use karte hai, 3D ko wapas 1D banane ke liye*"
   ]
  },
  {
   "cell_type": "code",
   "execution_count": null,
   "id": "7bc44145",
   "metadata": {},
   "outputs": [],
   "source": [
    "arr = arr.ravel()"
   ]
  },
  {
   "cell_type": "code",
   "execution_count": null,
   "id": "14f521bd",
   "metadata": {},
   "outputs": [],
   "source": [
    "arr"
   ]
  },
  {
   "cell_type": "code",
   "execution_count": null,
   "id": "9235b37c",
   "metadata": {},
   "outputs": [],
   "source": [
    "arr.shape"
   ]
  },
  {
   "cell_type": "markdown",
   "id": "335d5ee5",
   "metadata": {},
   "source": [
    "# Numpy Axis"
   ]
  },
  {
   "cell_type": "code",
   "execution_count": null,
   "id": "48b32eb4",
   "metadata": {},
   "outputs": [],
   "source": [
    "x = [[1,2,3],[4,5,6],[7,1,0]]"
   ]
  },
  {
   "cell_type": "code",
   "execution_count": null,
   "id": "06563e02",
   "metadata": {},
   "outputs": [],
   "source": [
    "ar = np.array(x)"
   ]
  },
  {
   "cell_type": "code",
   "execution_count": null,
   "id": "7e715b65",
   "metadata": {},
   "outputs": [],
   "source": [
    "ar"
   ]
  },
  {
   "cell_type": "markdown",
   "id": "7b10908f",
   "metadata": {},
   "source": [
    "*Abb hum agar axis 0 ka sum nikalenge to*"
   ]
  },
  {
   "cell_type": "code",
   "execution_count": null,
   "id": "816ccadd",
   "metadata": {},
   "outputs": [],
   "source": [
    "ar.sum(axis=0)"
   ]
  },
  {
   "cell_type": "markdown",
   "id": "fb0d6eeb",
   "metadata": {},
   "source": [
    "*Or agar hum axis 1 ka sum nikale to*"
   ]
  },
  {
   "cell_type": "code",
   "execution_count": null,
   "id": "b2ecdc93",
   "metadata": {},
   "outputs": [],
   "source": [
    "ar.sum(axis=1)"
   ]
  },
  {
   "cell_type": "markdown",
   "id": "292cf0d4",
   "metadata": {},
   "source": [
    "# Atributes and Methods of NumPy"
   ]
  },
  {
   "cell_type": "markdown",
   "id": "60cb7f61",
   "metadata": {},
   "source": [
    "**1.Transpose Array**"
   ]
  },
  {
   "cell_type": "markdown",
   "id": "ce8665c5",
   "metadata": {},
   "source": [
    "*Transpose matlab jo row tha wo column or jo column tha wo row*"
   ]
  },
  {
   "cell_type": "code",
   "execution_count": null,
   "id": "f68bca13",
   "metadata": {},
   "outputs": [],
   "source": [
    "ar.T"
   ]
  },
  {
   "cell_type": "markdown",
   "id": "87efa3b5",
   "metadata": {},
   "source": [
    "**2.Flatiter**"
   ]
  },
  {
   "cell_type": "markdown",
   "id": "18aaf4fa",
   "metadata": {},
   "source": [
    "*Ye ek iterator deta hai, or isko me for loop laga kar iterate kar sakta hun*"
   ]
  },
  {
   "cell_type": "markdown",
   "id": "a1bdbcb5",
   "metadata": {},
   "source": [
    "ar.flat"
   ]
  },
  {
   "cell_type": "code",
   "execution_count": null,
   "id": "e2950dab",
   "metadata": {},
   "outputs": [],
   "source": [
    "for item in ar.flat:\n",
    "    print(item)"
   ]
  },
  {
   "cell_type": "markdown",
   "id": "5ef31e35",
   "metadata": {},
   "source": [
    "*to ye mujhe iske sare items de dega, kyuki humne ar ko change nahi kiya to jo humra purana wala ar hai usi ke sare items dega ye*"
   ]
  },
  {
   "cell_type": "markdown",
   "id": "0e15580d",
   "metadata": {},
   "source": [
    "**3.No. of Dimensions**"
   ]
  },
  {
   "cell_type": "code",
   "execution_count": null,
   "id": "3c948823",
   "metadata": {},
   "outputs": [],
   "source": [
    "ar.ndim"
   ]
  },
  {
   "cell_type": "markdown",
   "id": "ada08aaa",
   "metadata": {},
   "source": [
    "**4.Size**"
   ]
  },
  {
   "cell_type": "code",
   "execution_count": null,
   "id": "c8c2f3bd",
   "metadata": {},
   "outputs": [],
   "source": [
    "ar.size"
   ]
  },
  {
   "cell_type": "markdown",
   "id": "a23779d8",
   "metadata": {},
   "source": [
    "**5.Total byte consume**"
   ]
  },
  {
   "cell_type": "markdown",
   "id": "8e0a080c",
   "metadata": {},
   "source": [
    "*Ye aapke array ke elements kitni jagah kha raha hai wo batata hai, kitni bytes le raha hai.*"
   ]
  },
  {
   "cell_type": "code",
   "execution_count": null,
   "id": "a2d412ba",
   "metadata": {},
   "outputs": [],
   "source": [
    "ar.nbytes"
   ]
  },
  {
   "cell_type": "markdown",
   "id": "5288811c",
   "metadata": {},
   "source": [
    "# Methods"
   ]
  },
  {
   "cell_type": "markdown",
   "id": "f8f9054b",
   "metadata": {},
   "source": [
    "**1.argmax**"
   ]
  },
  {
   "cell_type": "markdown",
   "id": "70fead4f",
   "metadata": {},
   "source": [
    "*argmax humara index deta hai hai jahan par maximum element hai, ab yahan par hum ek 1D array banayenge.*"
   ]
  },
  {
   "cell_type": "code",
   "execution_count": null,
   "id": "c7bb7f7e",
   "metadata": {},
   "outputs": [],
   "source": [
    "one = np.array([1,3,4,634,2])"
   ]
  },
  {
   "cell_type": "code",
   "execution_count": null,
   "id": "2cf3e5fb",
   "metadata": {},
   "outputs": [],
   "source": [
    "one.argmax()"
   ]
  },
  {
   "cell_type": "markdown",
   "id": "e4cd460d",
   "metadata": {},
   "source": [
    "*'or humne jo yahan parenthesis lagaya hai ek parenthesis open kiya or ek band kiya iska matlb mene isko (argmax) ko as an \"Function\" use kiya hai*"
   ]
  },
  {
   "cell_type": "markdown",
   "id": "7b911fbc",
   "metadata": {},
   "source": [
    "**2.argmin**"
   ]
  },
  {
   "cell_type": "markdown",
   "id": "8e8f34e8",
   "metadata": {},
   "source": [
    "*argmin hume index deta hia jahan par minimum element hai*"
   ]
  },
  {
   "cell_type": "code",
   "execution_count": null,
   "id": "dc15d14b",
   "metadata": {},
   "outputs": [],
   "source": [
    "one.argmin()"
   ]
  },
  {
   "cell_type": "markdown",
   "id": "5beec521",
   "metadata": {},
   "source": [
    "**3.argshort**"
   ]
  },
  {
   "cell_type": "code",
   "execution_count": null,
   "id": "9ea25ad0",
   "metadata": {},
   "outputs": [],
   "source": [
    "one.argsort()"
   ]
  },
  {
   "cell_type": "markdown",
   "id": "41ecc5b8",
   "metadata": {},
   "source": [
    "*arhsort mujhe ek array dega or ye mujhe array ki wo indices dega jo ki iss array ko sort kar dega. wo indices, jis order me agar ye array ke element hote to wo sort ho jata,  yaniki 0 par uska sabse chota element,fir uske ek kadam par 4 index par hai*"
   ]
  },
  {
   "cell_type": "markdown",
   "id": "0682b2ec",
   "metadata": {},
   "source": [
    "*to yahan aap logo ko badhte kram me array ke indicess ka array mill jata hai*"
   ]
  },
  {
   "cell_type": "markdown",
   "id": "afd56f39",
   "metadata": {},
   "source": [
    "# These methods in 2-D array"
   ]
  },
  {
   "cell_type": "code",
   "execution_count": null,
   "id": "26f9f55f",
   "metadata": {},
   "outputs": [],
   "source": [
    "ar"
   ]
  },
  {
   "cell_type": "code",
   "execution_count": null,
   "id": "c3afd207",
   "metadata": {},
   "outputs": [],
   "source": [
    "ar.argmin()"
   ]
  },
  {
   "cell_type": "code",
   "execution_count": null,
   "id": "073d5b96",
   "metadata": {},
   "outputs": [],
   "source": [
    "ar.argmax()"
   ]
  },
  {
   "cell_type": "code",
   "execution_count": null,
   "id": "34aafb8b",
   "metadata": {},
   "outputs": [],
   "source": [
    "ar.argmax(axis=0)"
   ]
  },
  {
   "cell_type": "markdown",
   "id": "ae005808",
   "metadata": {},
   "source": [
    "*to axis=0 ka mtlb hai ye pehle column1 pa dekhega kon se index me sabse bada no hai jo index no 2 par hai, fir ye column2 par dekhega ko ki index no 1 par hai or column3 me bhi index no 1 par hi hai to isiliye isne [2,1,1] diya*"
   ]
  },
  {
   "cell_type": "code",
   "execution_count": null,
   "id": "1f60d816",
   "metadata": {},
   "outputs": [],
   "source": [
    "ar.argmax(axis=1)"
   ]
  },
  {
   "cell_type": "markdown",
   "id": "c5ffce98",
   "metadata": {},
   "source": [
    "*Same axix=0 ke jaisa hi yahan par bhi hua*"
   ]
  },
  {
   "cell_type": "code",
   "execution_count": null,
   "id": "c4d9f334",
   "metadata": {},
   "outputs": [],
   "source": [
    "ar.argsort(axis=1)"
   ]
  },
  {
   "cell_type": "markdown",
   "id": "1faaeaec",
   "metadata": {},
   "source": [
    "*yahan par axis=1 matlb ye row1 me dekhega element ko fir elements ki increasing order ke index ko print karega like R1=[1,2,3] ka sort hoga [0,1,2], R2=[4,5,6] ka bhi wohi [0,1,2] or R3=[7,1,0] ka hoga [2,1,0] ye same kam karega 1-D ke jaisa hi*"
   ]
  },
  {
   "cell_type": "code",
   "execution_count": null,
   "id": "71e65691",
   "metadata": {},
   "outputs": [],
   "source": [
    "ar.argsort(axis=0)"
   ]
  },
  {
   "cell_type": "markdown",
   "id": "1c3c272f",
   "metadata": {},
   "source": [
    "*same ye bhi waise hi kam karta hai*"
   ]
  },
  {
   "cell_type": "code",
   "execution_count": null,
   "id": "6c3ccbe4",
   "metadata": {},
   "outputs": [],
   "source": [
    "ar.ravel()"
   ]
  },
  {
   "cell_type": "markdown",
   "id": "be2540ce",
   "metadata": {},
   "source": [
    "*ravel se ye sidha ho jata hai same 1-D ke tarah hi*"
   ]
  },
  {
   "cell_type": "code",
   "execution_count": null,
   "id": "8e02878e",
   "metadata": {},
   "outputs": [],
   "source": [
    "ar.reshape((9,1))"
   ]
  },
  {
   "cell_type": "markdown",
   "id": "86814c27",
   "metadata": {},
   "source": [
    "*reshape in 9 cross 1*"
   ]
  },
  {
   "cell_type": "code",
   "execution_count": null,
   "id": "72ff906d",
   "metadata": {},
   "outputs": [],
   "source": [
    "ar.reshape((9,))"
   ]
  },
  {
   "cell_type": "markdown",
   "id": "50f3b4f8",
   "metadata": {},
   "source": [
    "*reshape in 9 cross 0*"
   ]
  },
  {
   "cell_type": "markdown",
   "id": "dbc33df9",
   "metadata": {},
   "source": [
    "# Mathematical operations in array"
   ]
  },
  {
   "cell_type": "markdown",
   "id": "a22fc835",
   "metadata": {},
   "source": [
    "**Matrices Operations**"
   ]
  },
  {
   "cell_type": "code",
   "execution_count": null,
   "id": "8cd1a487",
   "metadata": {},
   "outputs": [],
   "source": [
    "ar"
   ]
  },
  {
   "cell_type": "markdown",
   "id": "5628047e",
   "metadata": {},
   "source": [
    "*Aab hum yahan par ek dusra 2-D array banayenge*"
   ]
  },
  {
   "cell_type": "code",
   "execution_count": null,
   "id": "5b5159d2",
   "metadata": {},
   "outputs": [],
   "source": [
    "ar2 = np.array([[1,2,1],\n",
    "               [4,0,6],\n",
    "               [8,1,0]])"
   ]
  },
  {
   "cell_type": "code",
   "execution_count": null,
   "id": "baeba52c",
   "metadata": {},
   "outputs": [],
   "source": [
    "ar+ar2"
   ]
  },
  {
   "cell_type": "markdown",
   "id": "02c76b2d",
   "metadata": {},
   "source": [
    "*To aap dekh sakte hai isne dono array ko jod diya hai badi asani se*"
   ]
  },
  {
   "cell_type": "markdown",
   "id": "32664e19",
   "metadata": {},
   "source": [
    "**Abb yahi kam agar hum python list ke sath karte to nahi hota** "
   ]
  },
  {
   "cell_type": "code",
   "execution_count": null,
   "id": "97ed6dd2",
   "metadata": {},
   "outputs": [],
   "source": [
    "[324,34]+[34,546]"
   ]
  },
  {
   "cell_type": "markdown",
   "id": "f4644417",
   "metadata": {},
   "source": [
    "*to aap dekh sakte hai humara list yahan add nahi hua ye extend ho gaya*"
   ]
  },
  {
   "cell_type": "code",
   "execution_count": null,
   "id": "10df8fd6",
   "metadata": {},
   "outputs": [],
   "source": [
    "ar"
   ]
  },
  {
   "cell_type": "code",
   "execution_count": null,
   "id": "f1fb1b4d",
   "metadata": {},
   "outputs": [],
   "source": [
    "ar2"
   ]
  },
  {
   "cell_type": "code",
   "execution_count": null,
   "id": "b35ce9b7",
   "metadata": {},
   "outputs": [],
   "source": [
    "ar*ar2"
   ]
  },
  {
   "cell_type": "markdown",
   "id": "38f6c432",
   "metadata": {},
   "source": [
    "*to aap dekh sakte hai yahan isne element wise multiply kar diya hai*"
   ]
  },
  {
   "cell_type": "code",
   "execution_count": null,
   "id": "38075347",
   "metadata": {},
   "outputs": [],
   "source": [
    "ar"
   ]
  },
  {
   "cell_type": "code",
   "execution_count": null,
   "id": "23b320eb",
   "metadata": {},
   "outputs": [],
   "source": [
    "ar2"
   ]
  },
  {
   "cell_type": "code",
   "execution_count": null,
   "id": "154c36f7",
   "metadata": {},
   "outputs": [],
   "source": [
    "ar - ar2"
   ]
  },
  {
   "cell_type": "markdown",
   "id": "0c16e9b8",
   "metadata": {},
   "source": [
    "*to aap dekh sakte yahan isne element wise substract bhi kar diya*"
   ]
  },
  {
   "cell_type": "code",
   "execution_count": null,
   "id": "2fc3aeab",
   "metadata": {},
   "outputs": [],
   "source": [
    "np.sqrt(ar)"
   ]
  },
  {
   "cell_type": "markdown",
   "id": "889a2724",
   "metadata": {},
   "source": [
    "*isse ye element wise square root le lega*"
   ]
  },
  {
   "cell_type": "code",
   "execution_count": null,
   "id": "bfe4f553",
   "metadata": {},
   "outputs": [],
   "source": [
    "ar.sum()"
   ]
  },
  {
   "cell_type": "markdown",
   "id": "0fc15702",
   "metadata": {},
   "source": [
    "*sare element ka sum de diya*"
   ]
  },
  {
   "cell_type": "code",
   "execution_count": null,
   "id": "adbe6caf",
   "metadata": {},
   "outputs": [],
   "source": [
    "ar.max()"
   ]
  },
  {
   "cell_type": "markdown",
   "id": "d73c1748",
   "metadata": {},
   "source": [
    "*ye ar ka sabse bada no de raha hai*"
   ]
  },
  {
   "cell_type": "code",
   "execution_count": null,
   "id": "c1b84456",
   "metadata": {},
   "outputs": [],
   "source": [
    "ar.min()"
   ]
  },
  {
   "cell_type": "markdown",
   "id": "14fb39fc",
   "metadata": {},
   "source": [
    "*ye ar ka sabse chota no de raha hai*"
   ]
  },
  {
   "cell_type": "markdown",
   "id": "605b62bf",
   "metadata": {},
   "source": [
    "# Finding elements in array"
   ]
  },
  {
   "cell_type": "markdown",
   "id": "921a83c4",
   "metadata": {},
   "source": [
    "**1.Where**"
   ]
  },
  {
   "cell_type": "code",
   "execution_count": null,
   "id": "167bb50b",
   "metadata": {},
   "outputs": [],
   "source": [
    "ar"
   ]
  },
  {
   "cell_type": "code",
   "execution_count": null,
   "id": "3d11d2e3",
   "metadata": {},
   "outputs": [],
   "source": [
    "np.where(ar>5)"
   ]
  },
  {
   "cell_type": "markdown",
   "id": "fd7e13b7",
   "metadata": {},
   "source": [
    "*to isne mujhe arrays ka ek tuple return kar diya ki yaha-yahan par apke pass elements hai jo ki 5 se bade hai, or hum iska type bhi check kar sakte hai*"
   ]
  },
  {
   "cell_type": "code",
   "execution_count": null,
   "id": "3952f239",
   "metadata": {},
   "outputs": [],
   "source": [
    "type(np.where(ar>5))"
   ]
  },
  {
   "cell_type": "markdown",
   "id": "59943253",
   "metadata": {},
   "source": [
    "**2.count_nonzero**"
   ]
  },
  {
   "cell_type": "code",
   "execution_count": null,
   "id": "444724dc",
   "metadata": {},
   "outputs": [],
   "source": [
    "np.count_nonzero(ar)"
   ]
  },
  {
   "cell_type": "markdown",
   "id": "09ef22ec",
   "metadata": {},
   "source": [
    "*ye count karke de dega kitne nonzero elements hai humare pass*"
   ]
  },
  {
   "cell_type": "markdown",
   "id": "39035d5e",
   "metadata": {},
   "source": [
    "**3.nonezero**"
   ]
  },
  {
   "cell_type": "code",
   "execution_count": null,
   "id": "cd5ec363",
   "metadata": {},
   "outputs": [],
   "source": [
    "np.nonzero(ar)"
   ]
  },
  {
   "cell_type": "markdown",
   "id": "07db8e95",
   "metadata": {},
   "source": [
    "*to ye basically har dimension ke liye ek tuple dega mujhe*"
   ]
  },
  {
   "cell_type": "markdown",
   "id": "90f6a755",
   "metadata": {},
   "source": [
    "**aab mene kaha [1,2] ko = 0 kar do**"
   ]
  },
  {
   "cell_type": "code",
   "execution_count": null,
   "id": "caa5fe43",
   "metadata": {},
   "outputs": [],
   "source": [
    "ar[1,2]=0"
   ]
  },
  {
   "cell_type": "code",
   "execution_count": null,
   "id": "bdce0876",
   "metadata": {},
   "outputs": [],
   "source": [
    "np.nonzero(ar)"
   ]
  },
  {
   "cell_type": "markdown",
   "id": "2b6f6d5e",
   "metadata": {},
   "source": [
    "*aap dekh sakte hai aab yahan par [1,2] yahan se gayab ho gaya hai*"
   ]
  },
  {
   "cell_type": "markdown",
   "id": "50b93e4a",
   "metadata": {},
   "source": [
    "# abb hum dekhenge kis tarah numpy kam space leta hai"
   ]
  },
  {
   "cell_type": "code",
   "execution_count": null,
   "id": "39be3617",
   "metadata": {},
   "outputs": [],
   "source": [
    "import sys"
   ]
  },
  {
   "cell_type": "code",
   "execution_count": null,
   "id": "fa97909f",
   "metadata": {},
   "outputs": [],
   "source": [
    "py_ar = [0,4,55,2]"
   ]
  },
  {
   "cell_type": "markdown",
   "id": "ee47ec76",
   "metadata": {},
   "source": [
    "*ye humara python array hai*"
   ]
  },
  {
   "cell_type": "code",
   "execution_count": null,
   "id": "adc57111",
   "metadata": {},
   "outputs": [],
   "source": [
    "np_ar = np.array(py_ar)"
   ]
  },
  {
   "cell_type": "markdown",
   "id": "6ef27029",
   "metadata": {},
   "source": [
    "*or ye humara numpy array hai*"
   ]
  },
  {
   "cell_type": "code",
   "execution_count": null,
   "id": "530814fd",
   "metadata": {},
   "outputs": [],
   "source": [
    "sys.getsizeof(1) * len(py_ar)"
   ]
  },
  {
   "cell_type": "markdown",
   "id": "c63f68f8",
   "metadata": {},
   "source": [
    "*sys.getsizeof(1) ye mujhe python array ke ek element ka size batata hai or fir hum usko pure python array ke length ke sath multiply kar diya*"
   ]
  },
  {
   "cell_type": "code",
   "execution_count": null,
   "id": "39b63299",
   "metadata": {},
   "outputs": [],
   "source": [
    "np_ar.itemsize * np_ar.size"
   ]
  },
  {
   "cell_type": "markdown",
   "id": "640f08cc",
   "metadata": {},
   "source": [
    "*np_ar.itemsize ye mujhe numpy array ke ek element ka size batata hai or fir hum usko pure numpy array ke size ke sath multiply kar diya*"
   ]
  },
  {
   "cell_type": "markdown",
   "id": "88dccf82",
   "metadata": {},
   "source": [
    "**To aap dekh sakte hai python array humara 112 bytes le raha hai or humara numpy array sirf 16 bites le raha hai, to aap dekh sakte hai hume kitna fayda hota hai**"
   ]
  },
  {
   "cell_type": "code",
   "execution_count": null,
   "id": "d71a0b26",
   "metadata": {},
   "outputs": [],
   "source": []
  }
 ],
 "metadata": {
  "kernelspec": {
   "display_name": "Python 3 (ipykernel)",
   "language": "python",
   "name": "python3"
  },
  "language_info": {
   "codemirror_mode": {
    "name": "ipython",
    "version": 3
   },
   "file_extension": ".py",
   "mimetype": "text/x-python",
   "name": "python",
   "nbconvert_exporter": "python",
   "pygments_lexer": "ipython3",
   "version": "3.9.1"
  }
 },
 "nbformat": 4,
 "nbformat_minor": 5
}
